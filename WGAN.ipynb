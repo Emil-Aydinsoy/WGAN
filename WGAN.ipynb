{
 "cells": [
  {
   "cell_type": "code",
   "execution_count": 1,
   "id": "065b2ab1",
   "metadata": {},
   "outputs": [],
   "source": [
    "import torch\n",
    "import torch.nn as nn\n",
    "import torch.optim as optim\n",
    "import torchvision\n",
    "import torchvision.datasets as datasets\n",
    "import torchvision.transforms as transforms\n",
    "from torch.utils.data import DataLoader\n",
    "from torch.utils.tensorboard import SummaryWriter"
   ]
  },
  {
   "cell_type": "code",
   "execution_count": 2,
   "id": "5f65d45c",
   "metadata": {},
   "outputs": [],
   "source": [
    "class Discriminator(nn.Module):\n",
    "    def __init__(self, channels_img, features_d):\n",
    "        super(Discriminator, self).__init__()\n",
    "        self.disc = nn.Sequential(\n",
    "            # input: N x channels_img x 64 x 64\n",
    "            nn.Conv2d(\n",
    "                channels_img, features_d, kernel_size=4, stride=2, padding=1\n",
    "            ),\n",
    "            nn.LeakyReLU(0.2),\n",
    "            # _block(in_channels, out_channels, kernel_size, stride, padding)\n",
    "            self._block(features_d, features_d * 2, 4, 2, 1),\n",
    "            self._block(features_d * 2, features_d * 4, 4, 2, 1),\n",
    "            self._block(features_d * 4, features_d * 8, 4, 2, 1),\n",
    "            # After all _block img output is 4x4 (Conv2d below makes into 1x1)\n",
    "            nn.Conv2d(features_d * 8, 1, kernel_size=4, stride=2, padding=0),\n",
    "        )\n",
    "\n",
    "    def _block(self, in_channels, out_channels, kernel_size, stride, padding):\n",
    "        return nn.Sequential(\n",
    "            nn.Conv2d(\n",
    "                in_channels,\n",
    "                out_channels,\n",
    "                kernel_size,\n",
    "                stride,\n",
    "                padding,\n",
    "                bias=False,\n",
    "            ),\n",
    "            nn.InstanceNorm2d(out_channels, affine=True),\n",
    "            nn.LeakyReLU(0.2),\n",
    "        )\n",
    "\n",
    "    def forward(self, x):\n",
    "        return self.disc(x)"
   ]
  },
  {
   "cell_type": "code",
   "execution_count": 3,
   "id": "4a4f614c",
   "metadata": {},
   "outputs": [],
   "source": [
    "class Generator(nn.Module):\n",
    "    def __init__(self, channels_noise, channels_img, features_g):\n",
    "        super(Generator, self).__init__()\n",
    "        self.net = nn.Sequential(\n",
    "            # Input: N x channels_noise x 1 x 1\n",
    "            self._block(channels_noise, features_g * 16, 4, 1, 0),  # img: 4x4\n",
    "            self._block(features_g * 16, features_g * 8, 4, 2, 1),  # img: 8x8\n",
    "            self._block(features_g * 8, features_g * 4, 4, 2, 1),  # img: 16x16\n",
    "            self._block(features_g * 4, features_g * 2, 4, 2, 1),  # img: 32x32\n",
    "            nn.ConvTranspose2d(\n",
    "                features_g * 2, channels_img, kernel_size=4, stride=2, padding=1\n",
    "            ),\n",
    "            # Output: N x channels_img x 64 x 64\n",
    "            nn.Tanh(),\n",
    "        )\n",
    "\n",
    "    def _block(self, in_channels, out_channels, kernel_size, stride, padding):\n",
    "        return nn.Sequential(\n",
    "            nn.ConvTranspose2d(\n",
    "                in_channels,\n",
    "                out_channels,\n",
    "                kernel_size,\n",
    "                stride,\n",
    "                padding,\n",
    "                bias=False,\n",
    "            ),\n",
    "            nn.BatchNorm2d(out_channels),\n",
    "            nn.ReLU(),\n",
    "        )\n",
    "\n",
    "    def forward(self, x):\n",
    "        return self.net(x)"
   ]
  },
  {
   "cell_type": "code",
   "execution_count": 4,
   "id": "9d82c1fe",
   "metadata": {},
   "outputs": [],
   "source": [
    "def initialize_weights(model):\n",
    "    for m in model.modules():\n",
    "        if isinstance(m,(nn.Conv2d,nn.ConvTranspose2d,nn.BatchNorm2d)):\n",
    "            nn.init.normal_(m.weight.data,0.0,0.02)"
   ]
  },
  {
   "cell_type": "code",
   "execution_count": 5,
   "id": "3791f128",
   "metadata": {},
   "outputs": [],
   "source": [
    "device = \"cuda\" if torch.cuda.is_available() else \"cpu\"\n",
    "LEARNING_RATE = 5e-5\n",
    "BATCH_SIZE = 64\n",
    "IMAGE_SIZE = 64\n",
    "CHANNELS_IMG = 1\n",
    "Z_DIM = 128\n",
    "NUM_EPOCHS = 5\n",
    "FEATURES_CRITIC = 64\n",
    "FEATURES_GEN = 64\n",
    "CRITIC_ITERATIONS = 5\n",
    "WEIGHT_CLIP = 0.01"
   ]
  },
  {
   "cell_type": "code",
   "execution_count": 6,
   "id": "fb7d31b2",
   "metadata": {},
   "outputs": [],
   "source": [
    "transforms = transforms.Compose(\n",
    "    [\n",
    "        transforms.Resize(IMAGE_SIZE),\n",
    "        transforms.ToTensor(),\n",
    "        transforms.Normalize(\n",
    "            [0.5 for _ in range(CHANNELS_IMG)], [0.5 for _ in range(CHANNELS_IMG)]\n",
    "        ),\n",
    "    ]\n",
    ")"
   ]
  },
  {
   "cell_type": "code",
   "execution_count": 7,
   "id": "7a44eeba",
   "metadata": {},
   "outputs": [],
   "source": [
    "dataset = datasets.MNIST(root=\"dataset/\",train=True,download=True,transform=transforms)"
   ]
  },
  {
   "cell_type": "code",
   "execution_count": 9,
   "id": "7fd11acc",
   "metadata": {},
   "outputs": [],
   "source": [
    "loader = DataLoader(dataset=dataset,batch_size=BATCH_SIZE,shuffle=True)"
   ]
  },
  {
   "cell_type": "code",
   "execution_count": 10,
   "id": "0a017ef7",
   "metadata": {},
   "outputs": [],
   "source": [
    "# initialize gen and disc/critic\n",
    "gen = Generator(Z_DIM, CHANNELS_IMG, FEATURES_GEN).to(device)\n",
    "critic = Discriminator(CHANNELS_IMG, FEATURES_CRITIC).to(device)\n",
    "initialize_weights(gen)\n",
    "initialize_weights(critic)"
   ]
  },
  {
   "cell_type": "code",
   "execution_count": 12,
   "id": "7d5244a3",
   "metadata": {},
   "outputs": [],
   "source": [
    "opt_gen = optim.RMSprop(gen.parameters(), lr=LEARNING_RATE)\n",
    "opt_critic = optim.RMSprop(critic.parameters(), lr=LEARNING_RATE)"
   ]
  },
  {
   "cell_type": "code",
   "execution_count": 13,
   "id": "3575abf4",
   "metadata": {},
   "outputs": [],
   "source": [
    "# for tensorboard plotting\n",
    "fixed_noise = torch.randn(32, Z_DIM, 1, 1).to(device)\n",
    "writer_real = SummaryWriter(f\"logs/real\")\n",
    "writer_fake = SummaryWriter(f\"logs/fake\")\n",
    "step = 0"
   ]
  },
  {
   "cell_type": "code",
   "execution_count": 14,
   "id": "d557a7c7",
   "metadata": {},
   "outputs": [
    {
     "data": {
      "text/plain": [
       "Discriminator(\n",
       "  (disc): Sequential(\n",
       "    (0): Conv2d(1, 64, kernel_size=(4, 4), stride=(2, 2), padding=(1, 1))\n",
       "    (1): LeakyReLU(negative_slope=0.2)\n",
       "    (2): Sequential(\n",
       "      (0): Conv2d(64, 128, kernel_size=(4, 4), stride=(2, 2), padding=(1, 1), bias=False)\n",
       "      (1): InstanceNorm2d(128, eps=1e-05, momentum=0.1, affine=True, track_running_stats=False)\n",
       "      (2): LeakyReLU(negative_slope=0.2)\n",
       "    )\n",
       "    (3): Sequential(\n",
       "      (0): Conv2d(128, 256, kernel_size=(4, 4), stride=(2, 2), padding=(1, 1), bias=False)\n",
       "      (1): InstanceNorm2d(256, eps=1e-05, momentum=0.1, affine=True, track_running_stats=False)\n",
       "      (2): LeakyReLU(negative_slope=0.2)\n",
       "    )\n",
       "    (4): Sequential(\n",
       "      (0): Conv2d(256, 512, kernel_size=(4, 4), stride=(2, 2), padding=(1, 1), bias=False)\n",
       "      (1): InstanceNorm2d(512, eps=1e-05, momentum=0.1, affine=True, track_running_stats=False)\n",
       "      (2): LeakyReLU(negative_slope=0.2)\n",
       "    )\n",
       "    (5): Conv2d(512, 1, kernel_size=(4, 4), stride=(2, 2))\n",
       "  )\n",
       ")"
      ]
     },
     "execution_count": 14,
     "metadata": {},
     "output_type": "execute_result"
    }
   ],
   "source": [
    "gen.train()\n",
    "critic.train()"
   ]
  },
  {
   "cell_type": "code",
   "execution_count": 15,
   "id": "05d95707",
   "metadata": {},
   "outputs": [
    {
     "name": "stdout",
     "output_type": "stream",
     "text": [
      "Epoch [0/5] Batch 100/938                   Loss D: -1.3783, loss G: 0.6627\n",
      "Epoch [0/5] Batch 200/938                   Loss D: -1.5230, loss G: 0.7342\n",
      "Epoch [0/5] Batch 300/938                   Loss D: -1.5363, loss G: 0.7392\n",
      "Epoch [0/5] Batch 400/938                   Loss D: -1.5404, loss G: 0.7401\n",
      "Epoch [0/5] Batch 500/938                   Loss D: -1.5402, loss G: 0.7400\n",
      "Epoch [0/5] Batch 600/938                   Loss D: -1.5423, loss G: 0.7404\n",
      "Epoch [0/5] Batch 700/938                   Loss D: -1.5398, loss G: 0.7401\n",
      "Epoch [0/5] Batch 800/938                   Loss D: -1.5418, loss G: 0.7410\n",
      "Epoch [0/5] Batch 900/938                   Loss D: -1.5330, loss G: 0.7397\n",
      "Epoch [1/5] Batch 100/938                   Loss D: -1.5361, loss G: 0.7369\n",
      "Epoch [1/5] Batch 200/938                   Loss D: -1.5081, loss G: 0.7206\n",
      "Epoch [1/5] Batch 300/938                   Loss D: -1.4703, loss G: 0.6952\n",
      "Epoch [1/5] Batch 400/938                   Loss D: -1.4639, loss G: 0.7128\n",
      "Epoch [1/5] Batch 500/938                   Loss D: -1.4377, loss G: 0.6999\n",
      "Epoch [1/5] Batch 600/938                   Loss D: -1.3822, loss G: 0.6913\n",
      "Epoch [1/5] Batch 700/938                   Loss D: -1.3069, loss G: 0.6851\n",
      "Epoch [1/5] Batch 800/938                   Loss D: -1.3808, loss G: 0.6991\n",
      "Epoch [1/5] Batch 900/938                   Loss D: -1.3726, loss G: 0.6779\n",
      "Epoch [2/5] Batch 100/938                   Loss D: -1.3544, loss G: 0.6144\n",
      "Epoch [2/5] Batch 200/938                   Loss D: -1.2859, loss G: 0.5479\n",
      "Epoch [2/5] Batch 300/938                   Loss D: -1.3276, loss G: 0.5605\n",
      "Epoch [2/5] Batch 400/938                   Loss D: -1.2721, loss G: 0.5551\n",
      "Epoch [2/5] Batch 500/938                   Loss D: -1.2844, loss G: 0.5777\n",
      "Epoch [2/5] Batch 600/938                   Loss D: -1.2692, loss G: 0.5858\n",
      "Epoch [2/5] Batch 700/938                   Loss D: -1.2074, loss G: 0.6586\n",
      "Epoch [2/5] Batch 800/938                   Loss D: -1.2132, loss G: 0.6418\n",
      "Epoch [2/5] Batch 900/938                   Loss D: -1.1572, loss G: 0.6608\n",
      "Epoch [3/5] Batch 100/938                   Loss D: -1.1354, loss G: 0.6612\n",
      "Epoch [3/5] Batch 200/938                   Loss D: -1.0947, loss G: 0.6881\n",
      "Epoch [3/5] Batch 300/938                   Loss D: -1.2081, loss G: 0.5188\n",
      "Epoch [3/5] Batch 400/938                   Loss D: -1.1767, loss G: 0.5107\n",
      "Epoch [3/5] Batch 500/938                   Loss D: -1.1697, loss G: 0.4845\n",
      "Epoch [3/5] Batch 600/938                   Loss D: -0.8837, loss G: 0.6451\n",
      "Epoch [3/5] Batch 700/938                   Loss D: -1.1802, loss G: 0.6581\n",
      "Epoch [3/5] Batch 800/938                   Loss D: -1.1760, loss G: 0.5511\n",
      "Epoch [3/5] Batch 900/938                   Loss D: -1.1526, loss G: 0.6049\n",
      "Epoch [4/5] Batch 100/938                   Loss D: -1.0916, loss G: 0.6232\n",
      "Epoch [4/5] Batch 200/938                   Loss D: -1.0910, loss G: 0.6342\n",
      "Epoch [4/5] Batch 300/938                   Loss D: -1.0632, loss G: 0.3796\n",
      "Epoch [4/5] Batch 400/938                   Loss D: -1.1501, loss G: 0.5661\n",
      "Epoch [4/5] Batch 500/938                   Loss D: -1.0858, loss G: 0.6241\n",
      "Epoch [4/5] Batch 600/938                   Loss D: -1.0846, loss G: 0.4253\n",
      "Epoch [4/5] Batch 700/938                   Loss D: -1.0249, loss G: 0.6300\n",
      "Epoch [4/5] Batch 800/938                   Loss D: -1.1178, loss G: 0.6292\n",
      "Epoch [4/5] Batch 900/938                   Loss D: -0.9618, loss G: 0.6539\n"
     ]
    }
   ],
   "source": [
    "for epoch in range(NUM_EPOCHS):\n",
    "    # Target labels not needed! <3 unsupervised\n",
    "    for batch_idx, (data, _) in enumerate(loader):\n",
    "        data = data.to(device)\n",
    "        cur_batch_size = data.shape[0]\n",
    "\n",
    "        # Train Critic: max E[critic(real)] - E[critic(fake)]\n",
    "        for _ in range(CRITIC_ITERATIONS):\n",
    "            noise = torch.randn(cur_batch_size, Z_DIM, 1, 1).to(device)\n",
    "            fake = gen(noise)\n",
    "            critic_real = critic(data).reshape(-1)\n",
    "            critic_fake = critic(fake).reshape(-1)\n",
    "            loss_critic = -(torch.mean(critic_real) - torch.mean(critic_fake))\n",
    "            critic.zero_grad()\n",
    "            loss_critic.backward(retain_graph=True)\n",
    "            opt_critic.step()\n",
    "\n",
    "            # clip critic weights between -0.01, 0.01\n",
    "            for p in critic.parameters():\n",
    "                p.data.clamp_(-WEIGHT_CLIP, WEIGHT_CLIP)\n",
    "\n",
    "        # Train Generator: max E[critic(gen_fake)] <-> min -E[critic(gen_fake)]\n",
    "        gen_fake = critic(fake).reshape(-1)\n",
    "        loss_gen = -torch.mean(gen_fake)\n",
    "        gen.zero_grad()\n",
    "        loss_gen.backward()\n",
    "        opt_gen.step()\n",
    "\n",
    "        # Print losses occasionally and print to tensorboard\n",
    "        if batch_idx % 100 == 0 and batch_idx > 0:\n",
    "            gen.eval()\n",
    "            critic.eval()\n",
    "            print(\n",
    "                f\"Epoch [{epoch}/{NUM_EPOCHS}] Batch {batch_idx}/{len(loader)} \\\n",
    "                  Loss D: {loss_critic:.4f}, loss G: {loss_gen:.4f}\"\n",
    "            )\n",
    "\n",
    "            with torch.no_grad():\n",
    "                fake = gen(noise)\n",
    "                # take out (up to) 32 examples\n",
    "                img_grid_real = torchvision.utils.make_grid(data[:32], normalize=True)\n",
    "                img_grid_fake = torchvision.utils.make_grid(fake[:32], normalize=True)\n",
    "\n",
    "                writer_real.add_image(\"Real\", img_grid_real, global_step=step)\n",
    "                writer_fake.add_image(\"Fake\", img_grid_fake, global_step=step)\n",
    "\n",
    "            step += 1\n",
    "            gen.train()\n",
    "            critic.train()"
   ]
  },
  {
   "cell_type": "code",
   "execution_count": null,
   "id": "b010a4a6",
   "metadata": {},
   "outputs": [],
   "source": []
  }
 ],
 "metadata": {
  "kernelspec": {
   "display_name": "Python 3 (ipykernel)",
   "language": "python",
   "name": "python3"
  },
  "language_info": {
   "codemirror_mode": {
    "name": "ipython",
    "version": 3
   },
   "file_extension": ".py",
   "mimetype": "text/x-python",
   "name": "python",
   "nbconvert_exporter": "python",
   "pygments_lexer": "ipython3",
   "version": "3.9.7"
  }
 },
 "nbformat": 4,
 "nbformat_minor": 5
}
